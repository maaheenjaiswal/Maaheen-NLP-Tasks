{
 "cells": [
  {
   "cell_type": "markdown",
   "metadata": {},
   "source": [
    "# Similarity between two documents"
   ]
  },
  {
   "cell_type": "markdown",
   "metadata": {},
   "source": [
    "We calculate similarity between two documents as a similarity measure between two vectors. We convert the documents into vectors and we use a similarity measure between two vectors to calculate similarity between two documents"
   ]
  },
  {
   "cell_type": "code",
   "execution_count": 1,
   "metadata": {},
   "outputs": [],
   "source": [
    "# creating a corpus of two documents\n",
    "\n",
    "corpus = ['''As many of my followers already know, my sexual history is quite lengthy. I’ve always been as safe as humanly possible and cannot emphasize enough the importance of handling sex maturely, like the adults that we are. While this story doesn’t seek to pressure anyone into an activity they do not, and cannot enjoy (none of my stories ever will), it does tell of my experiences and the real facts of double penetration from someone who’s done it many times.\n",
    "\n",
    "The internet has plenty of porn, yet, finds itself conspicuously lacking in information about the practice of double penetration, so I sought to bring both my experiences and the experiences of others, as well as some science into a story about double penetration.\n",
    "\n",
    "I’d like to get some facts out there and dispell some myths about the practice, giving my take on a rather new phenomenon.\n",
    "\n",
    "Before I proceed, a bit about etiquette and then we can get to the good stuff, so I’ll start by saying that if you haven’t read my work The Etiquette of Anal Sex: The Gentleman’s Guide to Anal Sex, I ask that you do so before proceeding, as there is some absolutely vital information in that story that will prove extremely useful in deciding if double penetration is right for you.\n",
    "\n",
    "That story can be found here.\n",
    "\n",
    "If you’re a man or giving-partner, you likely already have your mind made up, but your ass isn’t the one on the line (literally), so I ask that you view that material and digest it thoroughly before approaching such a monumental task as double penetration.''',\n",
    "          '''Double penetration is a popular staple of pornographic films, and it’s quite possible that outside of a few rare and daring instances, it likely didn’t happen outside of pornography for most of human history. It’s difficult, cumbersome, and requires comfortable polyamory coupled with liberal sexual views and a society that nurtures sexual openness, so while it’s not necessarily entirely a byproduct of porn, it’s definitely an outgrowth of it, and a prime example of life reflecting art.\n",
    "\n",
    "After 2010, according to Pornhub statistics, the parent genre “Gangbang” attracted more and more viewers every single year, as is discussed in my story All About Analingus (here), increasing 499% between 2009 and 2015.\n",
    "\n",
    "According to the stats from the pornography giant PornHub, viewership of all things anal has been on the rise for years, decades even, with a 120% jump in viewership in the United States from 2009 to 2015, and a 78% jump worldwide.\n",
    "There is a stark divide among those searching for anal-related pornography, and while there is a divide between the human sexes, with men being 33% more likely to search for anal-related porn, the difference is actually age. 18–24-year-olds are significantly less interested in anal than their older counterparts 25 and up, and this group is 290% more likely to search for My Little Pony themed porn than others, but 33% less likely to search for anal related porn than older groups.\n",
    "Simply put, people are more interested in at least watching a gangbang, usually including double penetration, than they are anal sex by itself. It’s a popular item on the porn menu. But is that because of its remoteness, it’s inaccessibility to the average person, including its difficulty to discuss, perform, and the corresponding social taboos that make it an embarrassing topic for many to bring up?'''      \n",
    "         ]\n"
   ]
  },
  {
   "cell_type": "code",
   "execution_count": 2,
   "metadata": {},
   "outputs": [
    {
     "name": "stdout",
     "output_type": "stream",
     "text": [
      "As mani of my follow alreadi know, my sexual histori is quit lengthy. i’v alway been as safe as humanli possibl and cannot emphas enough the import of handl sex maturely, like the adult that we are. while thi stori doesn’t seek to pressur anyon into an activ they do not, and cannot enjoy (none of my stori ever will), it doe tell of my experi and the real fact of doubl penetr from someon who’ done it mani times.\n",
      "\n",
      "th internet ha plenti of porn, yet, find itself conspicu lack in inform about the practic of doubl penetration, so I sought to bring both my experi and the experi of others, as well as some scienc into a stori about doubl penetration.\n",
      "\n",
      "i’d like to get some fact out there and dispel some myth about the practice, give my take on a rather new phenomenon.\n",
      "\n",
      "befor I proceed, a bit about etiquett and then we can get to the good stuff, so i’ll start by say that if you haven’t read my work the etiquett of anal sex: the gentleman’ guid to anal sex, I ask that you do so befor proceeding, as there is some absolut vital inform in that stori that will prove extrem use in decid if doubl penetr is right for you.\n",
      "\n",
      "that stori can be found here.\n",
      "\n",
      "if you’r a man or giving-partner, you like alreadi have your mind made up, but your ass isn’t the one on the line (literally), so I ask that you view that materi and digest it thoroughli befor approach such a monument task as doubl penetration.\n",
      "\n",
      "\n",
      "doubl penetr is a popular stapl of pornograph films, and it’ quit possibl that outsid of a few rare and dare instances, it like didn’t happen outsid of pornographi for most of human history. it’ difficult, cumbersome, and requir comfort polyamori coupl with liber sexual view and a societi that nurtur sexual openness, so while it’ not necessarili entir a byproduct of porn, it’ definit an outgrowth of it, and a prime exampl of life reflect art.\n",
      "\n",
      "aft 2010, accord to pornhub statistics, the parent genr “gangbang” attract more and more viewer everi singl year, as is discuss in my stori all about analingu (here), increas 499% between 2009 and 2015.\n",
      "\n",
      "accord to the stat from the pornographi giant pornhub, viewership of all thing anal ha been on the rise for years, decad even, with a 120% jump in viewership in the unit state from 2009 to 2015, and a 78% jump worldwide.\n",
      "ther is a stark divid among those search for anal-rel pornography, and while there is a divid between the human sexes, with men be 33% more like to search for anal-rel porn, the differ is actual age. 18–24-year-old are significantli less interest in anal than their older counterpart 25 and up, and thi group is 290% more like to search for My littl poni theme porn than others, but 33% less like to search for anal relat porn than older groups.\n",
      "simpli put, peopl are more interest in at least watch a gangbang, usual includ doubl penetration, than they are anal sex by itself. it’ a popular item on the porn menu. but is that becaus of it remoteness, it’ inaccess to the averag person, includ it difficulti to discuss, perform, and the correspond social taboo that make it an embarrass topic for mani to bring up?\n",
      "\n",
      "\n"
     ]
    }
   ],
   "source": [
    "# Preprocessing\n",
    "\n",
    "# 1. Stemming\n",
    "import nltk\n",
    "from nltk.stem import PorterStemmer\n",
    "stemmer = PorterStemmer()\n",
    "\n",
    "for i in corpus:\n",
    "    example = i\n",
    "    example = [stemmer.stem(token) for token in example.split(\" \")]\n",
    "    print(\" \".join(example))\n",
    "    print(\"\\n\")"
   ]
  },
  {
   "cell_type": "code",
   "execution_count": 3,
   "metadata": {},
   "outputs": [
    {
     "name": "stdout",
     "output_type": "stream",
     "text": [
      "As many of my follower already know, my sexual history is quite lengthy. I’ve always been a safe a humanly possible and cannot emphasize enough the importance of handling sex maturely, like the adult that we are. While this story doesn’t seek to pressure anyone into an activity they do not, and cannot enjoy (none of my story ever will), it doe tell of my experience and the real fact of double penetration from someone who’s done it many times.\n",
      "\n",
      "The internet ha plenty of porn, yet, find itself conspicuously lacking in information about the practice of double penetration, so I sought to bring both my experience and the experience of others, a well a some science into a story about double penetration.\n",
      "\n",
      "I’d like to get some fact out there and dispell some myth about the practice, giving my take on a rather new phenomenon.\n",
      "\n",
      "Before I proceed, a bit about etiquette and then we can get to the good stuff, so I’ll start by saying that if you haven’t read my work The Etiquette of Anal Sex: The Gentleman’s Guide to Anal Sex, I ask that you do so before proceeding, a there is some absolutely vital information in that story that will prove extremely useful in deciding if double penetration is right for you.\n",
      "\n",
      "That story can be found here.\n",
      "\n",
      "If you’re a man or giving-partner, you likely already have your mind made up, but your as isn’t the one on the line (literally), so I ask that you view that material and digest it thoroughly before approaching such a monumental task a double penetration.\n",
      "\n",
      "\n",
      "Double penetration is a popular staple of pornographic films, and it’s quite possible that outside of a few rare and daring instances, it likely didn’t happen outside of pornography for most of human history. It’s difficult, cumbersome, and requires comfortable polyamory coupled with liberal sexual view and a society that nurture sexual openness, so while it’s not necessarily entirely a byproduct of porn, it’s definitely an outgrowth of it, and a prime example of life reflecting art.\n",
      "\n",
      "After 2010, according to Pornhub statistics, the parent genre “Gangbang” attracted more and more viewer every single year, a is discussed in my story All About Analingus (here), increasing 499% between 2009 and 2015.\n",
      "\n",
      "According to the stats from the pornography giant PornHub, viewership of all thing anal ha been on the rise for years, decade even, with a 120% jump in viewership in the United States from 2009 to 2015, and a 78% jump worldwide.\n",
      "There is a stark divide among those searching for anal-related pornography, and while there is a divide between the human sexes, with men being 33% more likely to search for anal-related porn, the difference is actually age. 18–24-year-olds are significantly le interested in anal than their older counterpart 25 and up, and this group is 290% more likely to search for My Little Pony themed porn than others, but 33% le likely to search for anal related porn than older groups.\n",
      "Simply put, people are more interested in at least watching a gangbang, usually including double penetration, than they are anal sex by itself. It’s a popular item on the porn menu. But is that because of it remoteness, it’s inaccessibility to the average person, including it difficulty to discuss, perform, and the corresponding social taboo that make it an embarrassing topic for many to bring up?\n",
      "\n",
      "\n"
     ]
    }
   ],
   "source": [
    "# 2. Lemmatization\n",
    "\n",
    "import nltk\n",
    "from nltk.stem import WordNetLemmatizer\n",
    "lemmatizer = WordNetLemmatizer()\n",
    "\n",
    "for i in corpus:\n",
    "    example = i\n",
    "    example = [lemmatizer.lemmatize(token) for token in example.split(\" \")]\n",
    "    print(\" \".join(example))\n",
    "    print(\"\\n\")"
   ]
  },
  {
   "cell_type": "code",
   "execution_count": 4,
   "metadata": {},
   "outputs": [
    {
     "name": "stdout",
     "output_type": "stream",
     "text": [
      "['120', '18', '2009', '2010', '2015', '24', '25', '290', '33', '499', '78', 'about', 'absolutely', 'according', 'activity', 'actually', 'adults', 'after', 'age', 'all', 'already', 'always', 'among', 'an', 'anal', 'analingus', 'and', 'anyone', 'approaching', 'are', 'art', 'as', 'ask', 'ass', 'at', 'attracted', 'average', 'be', 'because', 'been', 'before', 'being', 'between', 'bit', 'both', 'bring', 'but', 'by', 'byproduct', 'can', 'cannot', 'comfortable', 'conspicuously', 'corresponding', 'counterparts', 'coupled', 'cumbersome', 'daring', 'decades', 'deciding', 'definitely', 'didn', 'difference', 'difficult', 'difficulty', 'digest', 'discuss', 'discussed', 'dispell', 'divide', 'do', 'does', 'doesn', 'done', 'double', 'embarrassing', 'emphasize', 'enjoy', 'enough', 'entirely', 'etiquette', 'even', 'ever', 'every', 'example', 'experiences', 'extremely', 'facts', 'few', 'films', 'finds', 'followers', 'for', 'found', 'from', 'gangbang', 'genre', 'gentleman', 'get', 'giant', 'giving', 'good', 'group', 'groups', 'guide', 'handling', 'happen', 'has', 'have', 'haven', 'here', 'history', 'human', 'humanly', 'if', 'importance', 'in', 'inaccessibility', 'including', 'increasing', 'information', 'instances', 'interested', 'internet', 'into', 'is', 'isn', 'it', 'item', 'its', 'itself', 'jump', 'know', 'lacking', 'least', 'lengthy', 'less', 'liberal', 'life', 'like', 'likely', 'line', 'literally', 'little', 'll', 'made', 'make', 'man', 'many', 'material', 'maturely', 'men', 'menu', 'mind', 'monumental', 'more', 'most', 'my', 'myths', 'necessarily', 'new', 'none', 'not', 'nurtures', 'of', 'older', 'olds', 'on', 'one', 'openness', 'or', 'others', 'out', 'outgrowth', 'outside', 'parent', 'partner', 'penetration', 'people', 'perform', 'person', 'phenomenon', 'plenty', 'polyamory', 'pony', 'popular', 'porn', 'pornhub', 'pornographic', 'pornography', 'possible', 'practice', 'pressure', 'prime', 'proceed', 'proceeding', 'prove', 'put', 'quite', 'rare', 'rather', 're', 'read', 'real', 'reflecting', 'related', 'remoteness', 'requires', 'right', 'rise', 'safe', 'saying', 'science', 'search', 'searching', 'seek', 'sex', 'sexes', 'sexual', 'significantly', 'simply', 'single', 'so', 'social', 'society', 'some', 'someone', 'sought', 'staple', 'stark', 'start', 'states', 'statistics', 'stats', 'stories', 'story', 'stuff', 'such', 'taboos', 'take', 'task', 'tell', 'than', 'that', 'the', 'their', 'themed', 'then', 'there', 'they', 'things', 'this', 'thoroughly', 'those', 'times', 'to', 'topic', 'united', 'up', 'useful', 'usually', 've', 'view', 'viewers', 'viewership', 'views', 'vital', 'watching', 'we', 'well', 'while', 'who', 'will', 'with', 'work', 'worldwide', 'year', 'years', 'yet', 'you', 'your']\n",
      "\n",
      "\n",
      "[[0 0 0 0 0 0 0 0 0 0 0 1 1 0 1 0 1 0 0 0 1 1 0 1 1 0 1 1 1 1 0 1 1 1 0 0\n",
      "  0 1 0 1 1 0 0 1 1 1 1 1 0 1 1 0 1 0 0 0 0 0 0 1 0 0 0 0 0 1 0 0 1 0 1 1\n",
      "  1 1 1 0 1 1 1 0 1 0 1 0 0 1 1 1 0 0 1 1 1 1 1 0 0 1 1 0 1 1 0 0 1 1 0 1\n",
      "  1 1 1 1 0 1 1 1 1 0 0 0 1 0 0 1 1 1 1 1 0 0 1 0 1 1 0 1 0 0 0 1 1 1 1 0\n",
      "  1 1 0 1 1 1 1 0 0 1 1 0 0 1 1 0 1 1 1 0 1 0 0 1 1 0 1 1 1 0 0 0 1 1 0 0\n",
      "  0 1 1 0 0 0 1 0 0 0 1 1 1 0 1 1 1 0 1 0 1 1 1 1 0 0 0 0 1 0 1 1 1 0 0 1\n",
      "  1 0 1 0 0 0 1 0 0 1 1 1 0 0 1 0 0 0 1 1 1 1 0 1 1 1 0 1 1 0 0 1 1 1 0 1\n",
      "  1 0 1 1 0 0 1 1 0 1 1 0 0 0 1 0 1 1 1 1 1 0 1 0 0 0 1 1 1]\n",
      " [1 1 1 1 1 1 1 1 1 1 1 1 0 1 0 1 0 1 1 1 0 0 1 1 1 1 1 0 0 1 1 1 0 0 1 1\n",
      "  1 0 1 1 0 1 1 0 0 1 1 1 1 0 0 1 0 1 1 1 1 1 1 0 1 1 1 1 1 0 1 1 0 1 0 0\n",
      "  0 0 1 1 0 0 0 1 0 1 0 1 1 0 0 0 1 1 0 0 1 0 1 1 1 0 0 1 0 0 1 1 0 0 1 1\n",
      "  0 0 1 1 1 0 0 0 1 1 1 1 0 1 1 0 0 1 0 1 1 1 1 1 0 0 1 0 1 1 1 0 1 0 0 1\n",
      "  0 0 1 0 1 0 0 1 1 0 0 1 1 1 0 1 0 0 1 1 1 1 1 1 0 1 0 1 0 1 1 1 0 1 1 1\n",
      "  1 0 0 1 1 1 1 1 1 1 1 0 0 1 0 0 0 1 1 1 0 0 0 0 1 1 1 1 0 1 0 0 0 1 1 0\n",
      "  1 1 1 1 1 1 1 1 1 0 0 0 1 1 0 1 1 1 0 1 0 0 1 0 0 0 1 1 1 1 1 0 1 1 1 1\n",
      "  0 1 0 1 1 1 1 0 1 0 0 1 1 1 0 1 0 0 1 0 0 1 0 1 1 1 0 0 0]]\n"
     ]
    }
   ],
   "source": [
    "# Feature Engineering \n",
    "\n",
    "# 1. CountVectors\n",
    "\n",
    "from sklearn.feature_extraction.text import CountVectorizer\n",
    "\n",
    "vectorizer = CountVectorizer( binary = True)\n",
    "X = vectorizer.fit_transform(corpus)\n",
    "print(vectorizer.get_feature_names())\n",
    "print(\"\\n\")\n",
    "print(X.toarray())"
   ]
  },
  {
   "cell_type": "code",
   "execution_count": 5,
   "metadata": {},
   "outputs": [
    {
     "name": "stdout",
     "output_type": "stream",
     "text": [
      "['120', '18', '2009', '2010', '2015', '24', '25', '290', '33', '499', '78', 'about', 'absolutely', 'according', 'activity', 'actually', 'adults', 'after', 'age', 'all', 'already', 'always', 'among', 'an', 'anal', 'analingus', 'and', 'anyone', 'approaching', 'are', 'art', 'as', 'ask', 'ass', 'at', 'attracted', 'average', 'be', 'because', 'been', 'before', 'being', 'between', 'bit', 'both', 'bring', 'but', 'by', 'byproduct', 'can', 'cannot', 'comfortable', 'conspicuously', 'corresponding', 'counterparts', 'coupled', 'cumbersome', 'daring', 'decades', 'deciding', 'definitely', 'didn', 'difference', 'difficult', 'difficulty', 'digest', 'discuss', 'discussed', 'dispell', 'divide', 'do', 'does', 'doesn', 'done', 'double', 'embarrassing', 'emphasize', 'enjoy', 'enough', 'entirely', 'etiquette', 'even', 'ever', 'every', 'example', 'experiences', 'extremely', 'facts', 'few', 'films', 'finds', 'followers', 'for', 'found', 'from', 'gangbang', 'genre', 'gentleman', 'get', 'giant', 'giving', 'good', 'group', 'groups', 'guide', 'handling', 'happen', 'has', 'have', 'haven', 'here', 'history', 'human', 'humanly', 'if', 'importance', 'in', 'inaccessibility', 'including', 'increasing', 'information', 'instances', 'interested', 'internet', 'into', 'is', 'isn', 'it', 'item', 'its', 'itself', 'jump', 'know', 'lacking', 'least', 'lengthy', 'less', 'liberal', 'life', 'like', 'likely', 'line', 'literally', 'little', 'll', 'made', 'make', 'man', 'many', 'material', 'maturely', 'men', 'menu', 'mind', 'monumental', 'more', 'most', 'my', 'myths', 'necessarily', 'new', 'none', 'not', 'nurtures', 'of', 'older', 'olds', 'on', 'one', 'openness', 'or', 'others', 'out', 'outgrowth', 'outside', 'parent', 'partner', 'penetration', 'people', 'perform', 'person', 'phenomenon', 'plenty', 'polyamory', 'pony', 'popular', 'porn', 'pornhub', 'pornographic', 'pornography', 'possible', 'practice', 'pressure', 'prime', 'proceed', 'proceeding', 'prove', 'put', 'quite', 'rare', 'rather', 're', 'read', 'real', 'reflecting', 'related', 'remoteness', 'requires', 'right', 'rise', 'safe', 'saying', 'science', 'search', 'searching', 'seek', 'sex', 'sexes', 'sexual', 'significantly', 'simply', 'single', 'so', 'social', 'society', 'some', 'someone', 'sought', 'staple', 'stark', 'start', 'states', 'statistics', 'stats', 'stories', 'story', 'stuff', 'such', 'taboos', 'take', 'task', 'tell', 'than', 'that', 'the', 'their', 'themed', 'then', 'there', 'they', 'things', 'this', 'thoroughly', 'those', 'times', 'to', 'topic', 'united', 'up', 'useful', 'usually', 've', 'view', 'viewers', 'viewership', 'views', 'vital', 'watching', 'we', 'well', 'while', 'who', 'will', 'with', 'work', 'worldwide', 'year', 'years', 'yet', 'you', 'your']\n",
      "\n",
      "\n",
      "[[0.         0.         0.         0.         0.         0.\n",
      "  0.         0.         0.         0.         0.         0.12103015\n",
      "  0.04252591 0.         0.04252591 0.         0.04252591 0.\n",
      "  0.         0.         0.08505183 0.04252591 0.         0.03025754\n",
      "  0.06051508 0.         0.21180277 0.04252591 0.04252591 0.03025754\n",
      "  0.         0.21180277 0.08505183 0.04252591 0.         0.\n",
      "  0.         0.04252591 0.         0.03025754 0.12757774 0.\n",
      "  0.         0.04252591 0.04252591 0.03025754 0.03025754 0.03025754\n",
      "  0.         0.08505183 0.08505183 0.         0.04252591 0.\n",
      "  0.         0.         0.         0.         0.         0.04252591\n",
      "  0.         0.         0.         0.         0.         0.04252591\n",
      "  0.         0.         0.04252591 0.         0.08505183 0.04252591\n",
      "  0.04252591 0.04252591 0.15128769 0.         0.04252591 0.04252591\n",
      "  0.04252591 0.         0.08505183 0.         0.04252591 0.\n",
      "  0.         0.12757774 0.04252591 0.08505183 0.         0.\n",
      "  0.04252591 0.04252591 0.03025754 0.04252591 0.03025754 0.\n",
      "  0.         0.04252591 0.08505183 0.         0.08505183 0.04252591\n",
      "  0.         0.         0.04252591 0.04252591 0.         0.03025754\n",
      "  0.04252591 0.04252591 0.03025754 0.03025754 0.         0.04252591\n",
      "  0.12757774 0.04252591 0.09077262 0.         0.         0.\n",
      "  0.08505183 0.         0.         0.04252591 0.08505183 0.09077262\n",
      "  0.04252591 0.09077262 0.         0.         0.03025754 0.\n",
      "  0.04252591 0.04252591 0.         0.04252591 0.         0.\n",
      "  0.         0.08505183 0.03025754 0.04252591 0.04252591 0.\n",
      "  0.04252591 0.04252591 0.         0.04252591 0.06051508 0.04252591\n",
      "  0.04252591 0.         0.         0.04252591 0.04252591 0.\n",
      "  0.         0.21180277 0.04252591 0.         0.04252591 0.04252591\n",
      "  0.03025754 0.         0.27231785 0.         0.         0.06051508\n",
      "  0.04252591 0.         0.04252591 0.03025754 0.04252591 0.\n",
      "  0.         0.         0.04252591 0.15128769 0.         0.\n",
      "  0.         0.04252591 0.04252591 0.         0.         0.\n",
      "  0.03025754 0.         0.         0.         0.03025754 0.08505183\n",
      "  0.04252591 0.         0.04252591 0.04252591 0.04252591 0.\n",
      "  0.03025754 0.         0.04252591 0.04252591 0.04252591 0.04252591\n",
      "  0.         0.         0.         0.         0.04252591 0.\n",
      "  0.04252591 0.04252591 0.04252591 0.         0.         0.04252591\n",
      "  0.09077262 0.         0.03025754 0.         0.         0.\n",
      "  0.12103015 0.         0.         0.17010366 0.04252591 0.04252591\n",
      "  0.         0.         0.04252591 0.         0.         0.\n",
      "  0.04252591 0.12103015 0.04252591 0.04252591 0.         0.04252591\n",
      "  0.04252591 0.04252591 0.         0.24206031 0.36309046 0.\n",
      "  0.         0.04252591 0.06051508 0.03025754 0.         0.03025754\n",
      "  0.04252591 0.         0.04252591 0.15128769 0.         0.\n",
      "  0.03025754 0.04252591 0.         0.04252591 0.04252591 0.\n",
      "  0.         0.         0.04252591 0.         0.08505183 0.04252591\n",
      "  0.03025754 0.04252591 0.08505183 0.         0.04252591 0.\n",
      "  0.         0.         0.04252591 0.25515549 0.08505183]]\n",
      "\n",
      "\n",
      "[[0.03918289 0.03918289 0.07836577 0.03918289 0.07836577 0.03918289\n",
      "  0.03918289 0.03918289 0.07836577 0.03918289 0.03918289 0.02787895\n",
      "  0.         0.07836577 0.         0.03918289 0.         0.03918289\n",
      "  0.03918289 0.07836577 0.         0.         0.03918289 0.05575789\n",
      "  0.16727368 0.03918289 0.33454736 0.         0.         0.08363684\n",
      "  0.03918289 0.02787895 0.         0.         0.03918289 0.03918289\n",
      "  0.03918289 0.         0.03918289 0.02787895 0.         0.03918289\n",
      "  0.07836577 0.         0.         0.02787895 0.05575789 0.02787895\n",
      "  0.03918289 0.         0.         0.03918289 0.         0.03918289\n",
      "  0.03918289 0.03918289 0.03918289 0.03918289 0.03918289 0.\n",
      "  0.03918289 0.03918289 0.03918289 0.03918289 0.03918289 0.\n",
      "  0.03918289 0.03918289 0.         0.07836577 0.         0.\n",
      "  0.         0.         0.05575789 0.03918289 0.         0.\n",
      "  0.         0.03918289 0.         0.03918289 0.         0.03918289\n",
      "  0.03918289 0.         0.         0.         0.03918289 0.03918289\n",
      "  0.         0.         0.19515263 0.         0.05575789 0.07836577\n",
      "  0.03918289 0.         0.         0.03918289 0.         0.\n",
      "  0.03918289 0.03918289 0.         0.         0.03918289 0.02787895\n",
      "  0.         0.         0.02787895 0.02787895 0.07836577 0.\n",
      "  0.         0.         0.13939473 0.03918289 0.07836577 0.03918289\n",
      "  0.         0.03918289 0.07836577 0.         0.         0.19515263\n",
      "  0.         0.25091052 0.03918289 0.07836577 0.02787895 0.07836577\n",
      "  0.         0.         0.03918289 0.         0.07836577 0.03918289\n",
      "  0.03918289 0.         0.11151579 0.         0.         0.03918289\n",
      "  0.         0.         0.03918289 0.         0.02787895 0.\n",
      "  0.         0.03918289 0.03918289 0.         0.         0.19591444\n",
      "  0.03918289 0.05575789 0.         0.03918289 0.         0.\n",
      "  0.02787895 0.03918289 0.25091052 0.07836577 0.03918289 0.05575789\n",
      "  0.         0.03918289 0.         0.02787895 0.         0.03918289\n",
      "  0.07836577 0.03918289 0.         0.05575789 0.03918289 0.03918289\n",
      "  0.03918289 0.         0.         0.03918289 0.03918289 0.07836577\n",
      "  0.13939473 0.07836577 0.03918289 0.11754866 0.02787895 0.\n",
      "  0.         0.03918289 0.         0.         0.         0.03918289\n",
      "  0.02787895 0.03918289 0.         0.         0.         0.\n",
      "  0.03918289 0.11754866 0.03918289 0.03918289 0.         0.03918289\n",
      "  0.         0.         0.         0.11754866 0.03918289 0.\n",
      "  0.02787895 0.03918289 0.05575789 0.03918289 0.03918289 0.03918289\n",
      "  0.02787895 0.03918289 0.03918289 0.         0.         0.\n",
      "  0.03918289 0.03918289 0.         0.03918289 0.03918289 0.03918289\n",
      "  0.         0.02787895 0.         0.         0.03918289 0.\n",
      "  0.         0.         0.15673155 0.11151579 0.27878947 0.03918289\n",
      "  0.03918289 0.         0.05575789 0.02787895 0.03918289 0.02787895\n",
      "  0.         0.03918289 0.         0.25091052 0.03918289 0.03918289\n",
      "  0.05575789 0.         0.03918289 0.         0.         0.03918289\n",
      "  0.07836577 0.03918289 0.         0.03918289 0.         0.\n",
      "  0.05575789 0.         0.         0.11754866 0.         0.03918289\n",
      "  0.07836577 0.03918289 0.         0.         0.        ]]\n"
     ]
    }
   ],
   "source": [
    "# 2. TF-IDF Vectors\n",
    "\n",
    "from sklearn.feature_extraction.text import TfidfVectorizer\n",
    "\n",
    "vectorizer = TfidfVectorizer()\n",
    "Y = vectorizer.fit_transform(corpus)\n",
    "print(vectorizer.get_feature_names())\n",
    "print(\"\\n\")\n",
    "print(Y[0].toarray())\n",
    "print(\"\\n\")\n",
    "print(Y[1].toarray())"
   ]
  },
  {
   "cell_type": "code",
   "execution_count": 6,
   "metadata": {},
   "outputs": [
    {
     "name": "stdout",
     "output_type": "stream",
     "text": [
      "[[0.26584267]]\n",
      "[[0.46142092]]\n"
     ]
    }
   ],
   "source": [
    "# Calculate Cosine Similarity\n",
    "\n",
    "from sklearn.metrics.pairwise import cosine_similarity\n",
    "similarity_1 = cosine_similarity(X[0] , X[1])\n",
    "similarity_2 = cosine_similarity(Y[0] , Y[1])\n",
    "print(similarity_1)\n",
    "print(similarity_2)"
   ]
  },
  {
   "cell_type": "code",
   "execution_count": null,
   "metadata": {},
   "outputs": [],
   "source": []
  }
 ],
 "metadata": {
  "kernelspec": {
   "display_name": "Python 3",
   "language": "python",
   "name": "python3"
  },
  "language_info": {
   "codemirror_mode": {
    "name": "ipython",
    "version": 3
   },
   "file_extension": ".py",
   "mimetype": "text/x-python",
   "name": "python",
   "nbconvert_exporter": "python",
   "pygments_lexer": "ipython3",
   "version": "3.6.4"
  }
 },
 "nbformat": 4,
 "nbformat_minor": 2
}
